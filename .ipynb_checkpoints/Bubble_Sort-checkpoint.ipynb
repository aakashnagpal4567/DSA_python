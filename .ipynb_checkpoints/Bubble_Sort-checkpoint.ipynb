{
 "cells": [
  {
   "cell_type": "code",
   "execution_count": 82,
   "metadata": {},
   "outputs": [],
   "source": [
    "db=[2,4,3,9,8,6,1,7]"
   ]
  },
  {
   "cell_type": "code",
   "execution_count": 85,
   "metadata": {},
   "outputs": [],
   "source": [
    "def bubble_sort(arr):\n",
    "    \"\"\"\n",
    "        SORTING USING BUBBLE SORT\n",
    "    \"\"\"   \n",
    "    isswap=False\n",
    "    for j in range(len(arr)-1):\n",
    "      print(\"first data : \",arr[j]) \n",
    "      for z in range(len(arr)-1-j):\n",
    "            print(\"second data :\",arr[z])\n",
    "            if arr[z]>arr[z+1]:\n",
    "                arr[z],arr[z+1]=arr[z+1],arr[z]\n",
    "                isswap=True\n",
    "                print(\"swap done ......\")\n",
    "      if not(isswap): \n",
    "        return \"Already Sorted......\"\n",
    "      print(\"Pass Completed\")\n",
    "      print(\"Every Pass Result : \", arr)\n",
    "    return arr            "
   ]
  },
  {
   "cell_type": "code",
   "execution_count": 90,
   "metadata": {},
   "outputs": [
    {
     "name": "stdout",
     "output_type": "stream",
     "text": [
      "first data :  1\n",
      "second data : 1\n",
      "second data : 2\n",
      "second data : 3\n",
      "second data : 4\n",
      "second data : 6\n",
      "second data : 7\n",
      "second data : 8\n",
      "Already Sorted......\n"
     ]
    }
   ],
   "source": [
    "print(bubble_sort(db))"
   ]
  },
  {
   "cell_type": "code",
   "execution_count": 89,
   "metadata": {},
   "outputs": [
    {
     "name": "stdout",
     "output_type": "stream",
     "text": [
      "already sorted\n"
     ]
    }
   ],
   "source": [
    "print(ar)"
   ]
  },
  {
   "cell_type": "code",
   "execution_count": null,
   "metadata": {},
   "outputs": [],
   "source": []
  },
  {
   "cell_type": "code",
   "execution_count": null,
   "metadata": {},
   "outputs": [],
   "source": []
  }
 ],
 "metadata": {
  "kernelspec": {
   "display_name": "Python 3",
   "language": "python",
   "name": "python3"
  },
  "language_info": {
   "codemirror_mode": {
    "name": "ipython",
    "version": 3
   },
   "file_extension": ".py",
   "mimetype": "text/x-python",
   "name": "python",
   "nbconvert_exporter": "python",
   "pygments_lexer": "ipython3",
   "version": "3.8.3"
  }
 },
 "nbformat": 4,
 "nbformat_minor": 4
}

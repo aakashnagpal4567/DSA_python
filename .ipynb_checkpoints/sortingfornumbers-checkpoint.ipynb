{
 "cells": [
  {
   "cell_type": "code",
   "execution_count": 59,
   "metadata": {},
   "outputs": [],
   "source": [
    "class sortingfornumbers :\n",
    "    def __init__(self,data):\n",
    "        print(\"calling sorting class  \")\n",
    "        self.arr=data\n",
    "    \n",
    "    def bs(self):\n",
    "        isswap=False\n",
    "        for j in range(len(self.arr)-1):\n",
    "           print(\"first data : \",self.arr[j]) \n",
    "           for z in range(len(self.arr)-1-j):\n",
    "                print(\"second data :\",self.arr[z])\n",
    "                if self.arr[z]>self.arr[z+1]:\n",
    "                    self.arr[z],self.arr[z+1]=self.arr[z+1],self.arr[z]\n",
    "                    isswap=True\n",
    "                    print(\"swap done \")\n",
    "           if not(isswap): \n",
    "             return \"already sorted\"\n",
    "           print(\"pass completed\")\n",
    "           print(\"Every pass result : \", self.arr)\n",
    "        return \"Sorting by Bubble Sort\", self.arr   \n",
    "        \n",
    "    def ss(self):\n",
    "        for j in  range(len(self.arr)):\n",
    "           min_value = j\n",
    "           for z in range(j+1,len(self.arr)):\n",
    "                 if self.arr[min_value]>self.arr[z] :\n",
    "                     min_value=z\n",
    "           self.arr[min_value] , self.arr[j]=self.arr[j],self.arr[min_value]\n",
    "        return \"Sorting by seelection Sort \" , self.arr \n",
    "    def ins(self):\n",
    "            for i in range(1,len(self.arr)):\n",
    "               position=i\n",
    "               current_value=self.arr[i]\n",
    "               while position>0 and self.arr[position-1]>current_value :\n",
    "                   self.arr[position]=self.arr[position-1]\n",
    "                   position=position-1\n",
    "               self.arr[position]=current_value\n",
    "            return \"Sorting By Insertion Sort \",self.arr    \n",
    "        "
   ]
  },
  {
   "cell_type": "code",
   "execution_count": 64,
   "metadata": {},
   "outputs": [],
   "source": [
    "db1=[9,8,7,6,5,4,3,2,1]\n"
   ]
  },
  {
   "cell_type": "code",
   "execution_count": 65,
   "metadata": {},
   "outputs": [
    {
     "name": "stdout",
     "output_type": "stream",
     "text": [
      "calling sorting class  \n"
     ]
    }
   ],
   "source": [
    "ss= sortingfornumbers(db1)"
   ]
  },
  {
   "cell_type": "code",
   "execution_count": 66,
   "metadata": {},
   "outputs": [
    {
     "name": "stdout",
     "output_type": "stream",
     "text": [
      "first data :  9\n",
      "second data : 9\n",
      "swap done \n",
      "second data : 9\n",
      "swap done \n",
      "second data : 9\n",
      "swap done \n",
      "second data : 9\n",
      "swap done \n",
      "second data : 9\n",
      "swap done \n",
      "second data : 9\n",
      "swap done \n",
      "second data : 9\n",
      "swap done \n",
      "second data : 9\n",
      "swap done \n",
      "pass completed\n",
      "Every pass result :  [8, 7, 6, 5, 4, 3, 2, 1, 9]\n",
      "first data :  7\n",
      "second data : 8\n",
      "swap done \n",
      "second data : 8\n",
      "swap done \n",
      "second data : 8\n",
      "swap done \n",
      "second data : 8\n",
      "swap done \n",
      "second data : 8\n",
      "swap done \n",
      "second data : 8\n",
      "swap done \n",
      "second data : 8\n",
      "swap done \n",
      "pass completed\n",
      "Every pass result :  [7, 6, 5, 4, 3, 2, 1, 8, 9]\n",
      "first data :  5\n",
      "second data : 7\n",
      "swap done \n",
      "second data : 7\n",
      "swap done \n",
      "second data : 7\n",
      "swap done \n",
      "second data : 7\n",
      "swap done \n",
      "second data : 7\n",
      "swap done \n",
      "second data : 7\n",
      "swap done \n",
      "pass completed\n",
      "Every pass result :  [6, 5, 4, 3, 2, 1, 7, 8, 9]\n",
      "first data :  3\n",
      "second data : 6\n",
      "swap done \n",
      "second data : 6\n",
      "swap done \n",
      "second data : 6\n",
      "swap done \n",
      "second data : 6\n",
      "swap done \n",
      "second data : 6\n",
      "swap done \n",
      "pass completed\n",
      "Every pass result :  [5, 4, 3, 2, 1, 6, 7, 8, 9]\n",
      "first data :  1\n",
      "second data : 5\n",
      "swap done \n",
      "second data : 5\n",
      "swap done \n",
      "second data : 5\n",
      "swap done \n",
      "second data : 5\n",
      "swap done \n",
      "pass completed\n",
      "Every pass result :  [4, 3, 2, 1, 5, 6, 7, 8, 9]\n",
      "first data :  6\n",
      "second data : 4\n",
      "swap done \n",
      "second data : 4\n",
      "swap done \n",
      "second data : 4\n",
      "swap done \n",
      "pass completed\n",
      "Every pass result :  [3, 2, 1, 4, 5, 6, 7, 8, 9]\n",
      "first data :  7\n",
      "second data : 3\n",
      "swap done \n",
      "second data : 3\n",
      "swap done \n",
      "pass completed\n",
      "Every pass result :  [2, 1, 3, 4, 5, 6, 7, 8, 9]\n",
      "first data :  8\n",
      "second data : 2\n",
      "swap done \n",
      "pass completed\n",
      "Every pass result :  [1, 2, 3, 4, 5, 6, 7, 8, 9]\n"
     ]
    },
    {
     "data": {
      "text/plain": [
       "('Sorting by Bubble Sort', [1, 2, 3, 4, 5, 6, 7, 8, 9])"
      ]
     },
     "execution_count": 66,
     "metadata": {},
     "output_type": "execute_result"
    }
   ],
   "source": [
    "ss.bs()"
   ]
  },
  {
   "cell_type": "code",
   "execution_count": 67,
   "metadata": {},
   "outputs": [
    {
     "data": {
      "text/plain": [
       "('Sorting by seelection Sort ', [1, 2, 3, 4, 5, 6, 7, 8, 9])"
      ]
     },
     "execution_count": 67,
     "metadata": {},
     "output_type": "execute_result"
    }
   ],
   "source": [
    "ss.ss()"
   ]
  },
  {
   "cell_type": "code",
   "execution_count": 68,
   "metadata": {},
   "outputs": [
    {
     "data": {
      "text/plain": [
       "('Sorting By Insertion Sort ', [1, 2, 3, 4, 5, 6, 7, 8, 9])"
      ]
     },
     "execution_count": 68,
     "metadata": {},
     "output_type": "execute_result"
    }
   ],
   "source": [
    "ss.ins()"
   ]
  },
  {
   "cell_type": "code",
   "execution_count": null,
   "metadata": {},
   "outputs": [],
   "source": []
  },
  {
   "cell_type": "code",
   "execution_count": null,
   "metadata": {},
   "outputs": [],
   "source": []
  }
 ],
 "metadata": {
  "kernelspec": {
   "display_name": "Python 3",
   "language": "python",
   "name": "python3"
  },
  "language_info": {
   "codemirror_mode": {
    "name": "ipython",
    "version": 3
   },
   "file_extension": ".py",
   "mimetype": "text/x-python",
   "name": "python",
   "nbconvert_exporter": "python",
   "pygments_lexer": "ipython3",
   "version": "3.8.3"
  }
 },
 "nbformat": 4,
 "nbformat_minor": 4
}

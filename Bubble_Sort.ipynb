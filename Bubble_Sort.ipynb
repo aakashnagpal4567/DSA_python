{
 "cells": [
  {
   "cell_type": "code",
   "execution_count": 53,
   "metadata": {},
   "outputs": [],
   "source": [
    "db=[2,4,3,9,8,6,1,7]"
   ]
  },
  {
   "cell_type": "code",
   "execution_count": 54,
   "metadata": {},
   "outputs": [],
   "source": [
    "def bubble_sort(arr):\n",
    "    isswap=False\n",
    "    for j in range(len(arr)-1):\n",
    "      print(\"first data : \",arr[j]) \n",
    "      for z in range(len(arr)-1-j):\n",
    "            print(\"second data :\",arr[z])\n",
    "            if arr[z]>arr[z+1]:\n",
    "                arr[z],arr[z+1]=arr[z+1],arr[z]\n",
    "                isswap=True\n",
    "                print(\"swap done \")\n",
    "      if not(isswap): \n",
    "        return \"already sorted\"\n",
    "      print(\"pass completed\")\n",
    "      print(\"Every pass result : \", arr)\n",
    "    return arr            "
   ]
  },
  {
   "cell_type": "code",
   "execution_count": 55,
   "metadata": {},
   "outputs": [
    {
     "name": "stdout",
     "output_type": "stream",
     "text": [
      "first data :  2\n",
      "second data : 2\n",
      "second data : 4\n",
      "swap done \n",
      "second data : 4\n",
      "second data : 9\n",
      "swap done \n",
      "second data : 9\n",
      "swap done \n",
      "second data : 9\n",
      "swap done \n",
      "second data : 9\n",
      "swap done \n",
      "pass completed\n",
      "Every pass result :  [2, 3, 4, 8, 6, 1, 7, 9]\n",
      "first data :  3\n",
      "second data : 2\n",
      "second data : 3\n",
      "second data : 4\n",
      "second data : 8\n",
      "swap done \n",
      "second data : 8\n",
      "swap done \n",
      "second data : 8\n",
      "swap done \n",
      "pass completed\n",
      "Every pass result :  [2, 3, 4, 6, 1, 7, 8, 9]\n",
      "first data :  4\n",
      "second data : 2\n",
      "second data : 3\n",
      "second data : 4\n",
      "second data : 6\n",
      "swap done \n",
      "second data : 6\n",
      "pass completed\n",
      "Every pass result :  [2, 3, 4, 1, 6, 7, 8, 9]\n",
      "first data :  1\n",
      "second data : 2\n",
      "second data : 3\n",
      "second data : 4\n",
      "swap done \n",
      "second data : 4\n",
      "pass completed\n",
      "Every pass result :  [2, 3, 1, 4, 6, 7, 8, 9]\n",
      "first data :  6\n",
      "second data : 2\n",
      "second data : 3\n",
      "swap done \n",
      "second data : 3\n",
      "pass completed\n",
      "Every pass result :  [2, 1, 3, 4, 6, 7, 8, 9]\n",
      "first data :  7\n",
      "second data : 2\n",
      "swap done \n",
      "second data : 2\n",
      "pass completed\n",
      "Every pass result :  [1, 2, 3, 4, 6, 7, 8, 9]\n",
      "first data :  8\n",
      "second data : 1\n",
      "pass completed\n",
      "Every pass result :  [1, 2, 3, 4, 6, 7, 8, 9]\n",
      "[1, 2, 3, 4, 6, 7, 8, 9]\n"
     ]
    }
   ],
   "source": [
    "print(bubble_sort(db))"
   ]
  },
  {
   "cell_type": "code",
   "execution_count": 51,
   "metadata": {},
   "outputs": [
    {
     "name": "stdout",
     "output_type": "stream",
     "text": [
      "already sorted\n"
     ]
    }
   ],
   "source": [
    "print(ar)"
   ]
  },
  {
   "cell_type": "code",
   "execution_count": null,
   "metadata": {},
   "outputs": [],
   "source": []
  },
  {
   "cell_type": "code",
   "execution_count": null,
   "metadata": {},
   "outputs": [],
   "source": []
  }
 ],
 "metadata": {
  "kernelspec": {
   "display_name": "Python 3",
   "language": "python",
   "name": "python3"
  },
  "language_info": {
   "codemirror_mode": {
    "name": "ipython",
    "version": 3
   },
   "file_extension": ".py",
   "mimetype": "text/x-python",
   "name": "python",
   "nbconvert_exporter": "python",
   "pygments_lexer": "ipython3",
   "version": "3.8.3"
  }
 },
 "nbformat": 4,
 "nbformat_minor": 4
}
